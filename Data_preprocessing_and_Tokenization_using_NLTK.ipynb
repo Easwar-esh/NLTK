{
  "nbformat": 4,
  "nbformat_minor": 0,
  "metadata": {
    "colab": {
      "provenance": []
    },
    "kernelspec": {
      "name": "python3",
      "display_name": "Python 3"
    },
    "language_info": {
      "name": "python"
    }
  },
  "cells": [
    {
      "cell_type": "code",
      "execution_count": null,
      "metadata": {
        "colab": {
          "base_uri": "https://localhost:8080/"
        },
        "id": "aKd1WcvC1Ud4",
        "outputId": "2d10d18b-2af9-4c66-edfc-b5e611f301ba"
      },
      "outputs": [
        {
          "output_type": "stream",
          "name": "stdout",
          "text": [
            "Looking in indexes: https://pypi.org/simple, https://us-python.pkg.dev/colab-wheels/public/simple/\n",
            "Requirement already satisfied: nltk in /usr/local/lib/python3.7/dist-packages (3.7)\n",
            "Requirement already satisfied: joblib in /usr/local/lib/python3.7/dist-packages (from nltk) (1.1.0)\n",
            "Requirement already satisfied: regex>=2021.8.3 in /usr/local/lib/python3.7/dist-packages (from nltk) (2022.6.2)\n",
            "Requirement already satisfied: click in /usr/local/lib/python3.7/dist-packages (from nltk) (7.1.2)\n",
            "Requirement already satisfied: tqdm in /usr/local/lib/python3.7/dist-packages (from nltk) (4.64.1)\n",
            "Looking in indexes: https://pypi.org/simple, https://us-python.pkg.dev/colab-wheels/public/simple/\n",
            "Requirement already satisfied: pyspellchecker in /usr/local/lib/python3.7/dist-packages (0.7.0)\n"
          ]
        }
      ],
      "source": [
        "\n",
        "!pip install nltk\n",
        "!pip install pyspellchecker"
      ]
    },
    {
      "cell_type": "code",
      "source": [
        "import nltk\n",
        "import pandas as pd\n",
        "from nltk.corpus import stopwords\n",
        "nltk.download('punkt')\n",
        "nltk.download('stopwords')"
      ],
      "metadata": {
        "colab": {
          "base_uri": "https://localhost:8080/"
        },
        "id": "Gm3YhFirKJfP",
        "outputId": "799c8e4b-9555-44d5-f102-d6ef45861f4b"
      },
      "execution_count": null,
      "outputs": [
        {
          "output_type": "stream",
          "name": "stderr",
          "text": [
            "[nltk_data] Downloading package punkt to /root/nltk_data...\n",
            "[nltk_data]   Package punkt is already up-to-date!\n",
            "[nltk_data] Downloading package stopwords to /root/nltk_data...\n",
            "[nltk_data]   Package stopwords is already up-to-date!\n"
          ]
        },
        {
          "output_type": "execute_result",
          "data": {
            "text/plain": [
              "True"
            ]
          },
          "metadata": {},
          "execution_count": 11
        }
      ]
    },
    {
      "cell_type": "code",
      "source": [
        "#@title Read the text file\n",
        "my_text=''\n",
        "f = open(\"culture.txt\", \"r\")\n",
        "for x in f:\n",
        "  my_text+=x\n",
        "print(my_text)"
      ],
      "metadata": {
        "colab": {
          "base_uri": "https://localhost:8080/"
        },
        "id": "KztnT7hFE0yN",
        "outputId": "1f25cee0-454e-4bf1-b7aa-443ee7b44b97"
      },
      "execution_count": null,
      "outputs": [
        {
          "output_type": "stream",
          "name": "stdout",
          "text": [
            "Indian culture is the oldest and famous among the other cultures of the world. \n",
            "Indian literature refers to an amalgamation of distinct cultures of all communities, traditions, customs, and religions in India. \n",
            "The diversity of Indian culture is known worldwide.\n",
            "Various Indian cultures profoundly influence Indian Philosophy, art, music, and even Literature. \n",
            "The Dharmic religions and Indian cultures throughout Indian history have a significant impact on the customs and traditions. \n",
            "\n"
          ]
        }
      ]
    },
    {
      "cell_type": "code",
      "source": [
        "#@title Read the csv file\n",
        "data=pd.read_csv(\"train.csv\")\n",
        "data_text=data[['text']]\n",
        "data_text.head()"
      ],
      "metadata": {
        "colab": {
          "base_uri": "https://localhost:8080/",
          "height": 206
        },
        "id": "GlrpGBxv_r98",
        "outputId": "e923f462-7600-4a64-8a9d-973fbadb43ac"
      },
      "execution_count": null,
      "outputs": [
        {
          "output_type": "execute_result",
          "data": {
            "text/plain": [
              "                                                text\n",
              "0  New rules for credit and debit card users: her...\n",
              "1  Anand Mahindra wants to visit the new Hindu Te...\n",
              "2  Climate change made summer drought 20 times mo...\n",
              "3  Gold, silver prices today: Precious metals rec...\n",
              "4  IBPS PO Prelims admit card 2022: When, where, ..."
            ],
            "text/html": [
              "\n",
              "  <div id=\"df-76e42664-0212-4fa1-9367-58020452b2ab\">\n",
              "    <div class=\"colab-df-container\">\n",
              "      <div>\n",
              "<style scoped>\n",
              "    .dataframe tbody tr th:only-of-type {\n",
              "        vertical-align: middle;\n",
              "    }\n",
              "\n",
              "    .dataframe tbody tr th {\n",
              "        vertical-align: top;\n",
              "    }\n",
              "\n",
              "    .dataframe thead th {\n",
              "        text-align: right;\n",
              "    }\n",
              "</style>\n",
              "<table border=\"1\" class=\"dataframe\">\n",
              "  <thead>\n",
              "    <tr style=\"text-align: right;\">\n",
              "      <th></th>\n",
              "      <th>text</th>\n",
              "    </tr>\n",
              "  </thead>\n",
              "  <tbody>\n",
              "    <tr>\n",
              "      <th>0</th>\n",
              "      <td>New rules for credit and debit card users: her...</td>\n",
              "    </tr>\n",
              "    <tr>\n",
              "      <th>1</th>\n",
              "      <td>Anand Mahindra wants to visit the new Hindu Te...</td>\n",
              "    </tr>\n",
              "    <tr>\n",
              "      <th>2</th>\n",
              "      <td>Climate change made summer drought 20 times mo...</td>\n",
              "    </tr>\n",
              "    <tr>\n",
              "      <th>3</th>\n",
              "      <td>Gold, silver prices today: Precious metals rec...</td>\n",
              "    </tr>\n",
              "    <tr>\n",
              "      <th>4</th>\n",
              "      <td>IBPS PO Prelims admit card 2022: When, where, ...</td>\n",
              "    </tr>\n",
              "  </tbody>\n",
              "</table>\n",
              "</div>\n",
              "      <button class=\"colab-df-convert\" onclick=\"convertToInteractive('df-76e42664-0212-4fa1-9367-58020452b2ab')\"\n",
              "              title=\"Convert this dataframe to an interactive table.\"\n",
              "              style=\"display:none;\">\n",
              "        \n",
              "  <svg xmlns=\"http://www.w3.org/2000/svg\" height=\"24px\"viewBox=\"0 0 24 24\"\n",
              "       width=\"24px\">\n",
              "    <path d=\"M0 0h24v24H0V0z\" fill=\"none\"/>\n",
              "    <path d=\"M18.56 5.44l.94 2.06.94-2.06 2.06-.94-2.06-.94-.94-2.06-.94 2.06-2.06.94zm-11 1L8.5 8.5l.94-2.06 2.06-.94-2.06-.94L8.5 2.5l-.94 2.06-2.06.94zm10 10l.94 2.06.94-2.06 2.06-.94-2.06-.94-.94-2.06-.94 2.06-2.06.94z\"/><path d=\"M17.41 7.96l-1.37-1.37c-.4-.4-.92-.59-1.43-.59-.52 0-1.04.2-1.43.59L10.3 9.45l-7.72 7.72c-.78.78-.78 2.05 0 2.83L4 21.41c.39.39.9.59 1.41.59.51 0 1.02-.2 1.41-.59l7.78-7.78 2.81-2.81c.8-.78.8-2.07 0-2.86zM5.41 20L4 18.59l7.72-7.72 1.47 1.35L5.41 20z\"/>\n",
              "  </svg>\n",
              "      </button>\n",
              "      \n",
              "  <style>\n",
              "    .colab-df-container {\n",
              "      display:flex;\n",
              "      flex-wrap:wrap;\n",
              "      gap: 12px;\n",
              "    }\n",
              "\n",
              "    .colab-df-convert {\n",
              "      background-color: #E8F0FE;\n",
              "      border: none;\n",
              "      border-radius: 50%;\n",
              "      cursor: pointer;\n",
              "      display: none;\n",
              "      fill: #1967D2;\n",
              "      height: 32px;\n",
              "      padding: 0 0 0 0;\n",
              "      width: 32px;\n",
              "    }\n",
              "\n",
              "    .colab-df-convert:hover {\n",
              "      background-color: #E2EBFA;\n",
              "      box-shadow: 0px 1px 2px rgba(60, 64, 67, 0.3), 0px 1px 3px 1px rgba(60, 64, 67, 0.15);\n",
              "      fill: #174EA6;\n",
              "    }\n",
              "\n",
              "    [theme=dark] .colab-df-convert {\n",
              "      background-color: #3B4455;\n",
              "      fill: #D2E3FC;\n",
              "    }\n",
              "\n",
              "    [theme=dark] .colab-df-convert:hover {\n",
              "      background-color: #434B5C;\n",
              "      box-shadow: 0px 1px 3px 1px rgba(0, 0, 0, 0.15);\n",
              "      filter: drop-shadow(0px 1px 2px rgba(0, 0, 0, 0.3));\n",
              "      fill: #FFFFFF;\n",
              "    }\n",
              "  </style>\n",
              "\n",
              "      <script>\n",
              "        const buttonEl =\n",
              "          document.querySelector('#df-76e42664-0212-4fa1-9367-58020452b2ab button.colab-df-convert');\n",
              "        buttonEl.style.display =\n",
              "          google.colab.kernel.accessAllowed ? 'block' : 'none';\n",
              "\n",
              "        async function convertToInteractive(key) {\n",
              "          const element = document.querySelector('#df-76e42664-0212-4fa1-9367-58020452b2ab');\n",
              "          const dataTable =\n",
              "            await google.colab.kernel.invokeFunction('convertToInteractive',\n",
              "                                                     [key], {});\n",
              "          if (!dataTable) return;\n",
              "\n",
              "          const docLinkHtml = 'Like what you see? Visit the ' +\n",
              "            '<a target=\"_blank\" href=https://colab.research.google.com/notebooks/data_table.ipynb>data table notebook</a>'\n",
              "            + ' to learn more about interactive tables.';\n",
              "          element.innerHTML = '';\n",
              "          dataTable['output_type'] = 'display_data';\n",
              "          await google.colab.output.renderOutput(dataTable, element);\n",
              "          const docLink = document.createElement('div');\n",
              "          docLink.innerHTML = docLinkHtml;\n",
              "          element.appendChild(docLink);\n",
              "        }\n",
              "      </script>\n",
              "    </div>\n",
              "  </div>\n",
              "  "
            ]
          },
          "metadata": {},
          "execution_count": 30
        }
      ]
    },
    {
      "cell_type": "markdown",
      "source": [
        "#Common Text Preprocessing Steps\n",
        "We have listed below some of the most commons text preprocessing steps.\n",
        "\n",
        "* Lowercasing\n",
        "* Removing Extra Whitespaces\n",
        "* Tokenization\n",
        "* Spelling Correction\n",
        "* Stopwords Removal\n",
        "* Removing Punctuations\n",
        "* Removal of Frequent Words\n",
        "* Stemming\n",
        "* Lemmatization"
      ],
      "metadata": {
        "id": "qcnd1I7sEqP4"
      }
    },
    {
      "cell_type": "code",
      "source": [
        "#@title Lowercasing\n",
        "data_text['text']=data_text['text'].str.lower()\n",
        "data_text.head()"
      ],
      "metadata": {
        "colab": {
          "base_uri": "https://localhost:8080/",
          "height": 206
        },
        "id": "3_ysttK2-Gnq",
        "outputId": "f683883d-f18a-4bac-9b49-96ab9a45d89d"
      },
      "execution_count": null,
      "outputs": [
        {
          "output_type": "execute_result",
          "data": {
            "text/plain": [
              "                                                text\n",
              "0  new rules for credit and debit card users: her...\n",
              "1  anand mahindra wants to visit the new hindu te...\n",
              "2  climate change made summer drought 20 times mo...\n",
              "3  gold, silver prices today: precious metals rec...\n",
              "4  ibps po prelims admit card 2022: when, where, ..."
            ],
            "text/html": [
              "\n",
              "  <div id=\"df-3e1dcf18-592a-4b60-ab44-aa9aeea1badb\">\n",
              "    <div class=\"colab-df-container\">\n",
              "      <div>\n",
              "<style scoped>\n",
              "    .dataframe tbody tr th:only-of-type {\n",
              "        vertical-align: middle;\n",
              "    }\n",
              "\n",
              "    .dataframe tbody tr th {\n",
              "        vertical-align: top;\n",
              "    }\n",
              "\n",
              "    .dataframe thead th {\n",
              "        text-align: right;\n",
              "    }\n",
              "</style>\n",
              "<table border=\"1\" class=\"dataframe\">\n",
              "  <thead>\n",
              "    <tr style=\"text-align: right;\">\n",
              "      <th></th>\n",
              "      <th>text</th>\n",
              "    </tr>\n",
              "  </thead>\n",
              "  <tbody>\n",
              "    <tr>\n",
              "      <th>0</th>\n",
              "      <td>new rules for credit and debit card users: her...</td>\n",
              "    </tr>\n",
              "    <tr>\n",
              "      <th>1</th>\n",
              "      <td>anand mahindra wants to visit the new hindu te...</td>\n",
              "    </tr>\n",
              "    <tr>\n",
              "      <th>2</th>\n",
              "      <td>climate change made summer drought 20 times mo...</td>\n",
              "    </tr>\n",
              "    <tr>\n",
              "      <th>3</th>\n",
              "      <td>gold, silver prices today: precious metals rec...</td>\n",
              "    </tr>\n",
              "    <tr>\n",
              "      <th>4</th>\n",
              "      <td>ibps po prelims admit card 2022: when, where, ...</td>\n",
              "    </tr>\n",
              "  </tbody>\n",
              "</table>\n",
              "</div>\n",
              "      <button class=\"colab-df-convert\" onclick=\"convertToInteractive('df-3e1dcf18-592a-4b60-ab44-aa9aeea1badb')\"\n",
              "              title=\"Convert this dataframe to an interactive table.\"\n",
              "              style=\"display:none;\">\n",
              "        \n",
              "  <svg xmlns=\"http://www.w3.org/2000/svg\" height=\"24px\"viewBox=\"0 0 24 24\"\n",
              "       width=\"24px\">\n",
              "    <path d=\"M0 0h24v24H0V0z\" fill=\"none\"/>\n",
              "    <path d=\"M18.56 5.44l.94 2.06.94-2.06 2.06-.94-2.06-.94-.94-2.06-.94 2.06-2.06.94zm-11 1L8.5 8.5l.94-2.06 2.06-.94-2.06-.94L8.5 2.5l-.94 2.06-2.06.94zm10 10l.94 2.06.94-2.06 2.06-.94-2.06-.94-.94-2.06-.94 2.06-2.06.94z\"/><path d=\"M17.41 7.96l-1.37-1.37c-.4-.4-.92-.59-1.43-.59-.52 0-1.04.2-1.43.59L10.3 9.45l-7.72 7.72c-.78.78-.78 2.05 0 2.83L4 21.41c.39.39.9.59 1.41.59.51 0 1.02-.2 1.41-.59l7.78-7.78 2.81-2.81c.8-.78.8-2.07 0-2.86zM5.41 20L4 18.59l7.72-7.72 1.47 1.35L5.41 20z\"/>\n",
              "  </svg>\n",
              "      </button>\n",
              "      \n",
              "  <style>\n",
              "    .colab-df-container {\n",
              "      display:flex;\n",
              "      flex-wrap:wrap;\n",
              "      gap: 12px;\n",
              "    }\n",
              "\n",
              "    .colab-df-convert {\n",
              "      background-color: #E8F0FE;\n",
              "      border: none;\n",
              "      border-radius: 50%;\n",
              "      cursor: pointer;\n",
              "      display: none;\n",
              "      fill: #1967D2;\n",
              "      height: 32px;\n",
              "      padding: 0 0 0 0;\n",
              "      width: 32px;\n",
              "    }\n",
              "\n",
              "    .colab-df-convert:hover {\n",
              "      background-color: #E2EBFA;\n",
              "      box-shadow: 0px 1px 2px rgba(60, 64, 67, 0.3), 0px 1px 3px 1px rgba(60, 64, 67, 0.15);\n",
              "      fill: #174EA6;\n",
              "    }\n",
              "\n",
              "    [theme=dark] .colab-df-convert {\n",
              "      background-color: #3B4455;\n",
              "      fill: #D2E3FC;\n",
              "    }\n",
              "\n",
              "    [theme=dark] .colab-df-convert:hover {\n",
              "      background-color: #434B5C;\n",
              "      box-shadow: 0px 1px 3px 1px rgba(0, 0, 0, 0.15);\n",
              "      filter: drop-shadow(0px 1px 2px rgba(0, 0, 0, 0.3));\n",
              "      fill: #FFFFFF;\n",
              "    }\n",
              "  </style>\n",
              "\n",
              "      <script>\n",
              "        const buttonEl =\n",
              "          document.querySelector('#df-3e1dcf18-592a-4b60-ab44-aa9aeea1badb button.colab-df-convert');\n",
              "        buttonEl.style.display =\n",
              "          google.colab.kernel.accessAllowed ? 'block' : 'none';\n",
              "\n",
              "        async function convertToInteractive(key) {\n",
              "          const element = document.querySelector('#df-3e1dcf18-592a-4b60-ab44-aa9aeea1badb');\n",
              "          const dataTable =\n",
              "            await google.colab.kernel.invokeFunction('convertToInteractive',\n",
              "                                                     [key], {});\n",
              "          if (!dataTable) return;\n",
              "\n",
              "          const docLinkHtml = 'Like what you see? Visit the ' +\n",
              "            '<a target=\"_blank\" href=https://colab.research.google.com/notebooks/data_table.ipynb>data table notebook</a>'\n",
              "            + ' to learn more about interactive tables.';\n",
              "          element.innerHTML = '';\n",
              "          dataTable['output_type'] = 'display_data';\n",
              "          await google.colab.output.renderOutput(dataTable, element);\n",
              "          const docLink = document.createElement('div');\n",
              "          docLink.innerHTML = docLinkHtml;\n",
              "          element.appendChild(docLink);\n",
              "        }\n",
              "      </script>\n",
              "    </div>\n",
              "  </div>\n",
              "  "
            ]
          },
          "metadata": {},
          "execution_count": 16
        }
      ]
    },
    {
      "cell_type": "code",
      "source": [
        "#@title Remove Extra Whitespaces\n",
        "def remove_whitespace(text):\n",
        "    return  \" \".join(text.split())\n",
        "\n",
        "# Test\n",
        "remove_whitespace(data_text['text'][3])"
      ],
      "metadata": {
        "colab": {
          "base_uri": "https://localhost:8080/",
          "height": 36
        },
        "id": "BEKe1YlMBdaX",
        "outputId": "0b8ff10e-8891-4879-b324-dadc21615700"
      },
      "execution_count": null,
      "outputs": [
        {
          "output_type": "execute_result",
          "data": {
            "text/plain": [
              "'gold, silver prices today: precious metals record hike on mcx'"
            ],
            "application/vnd.google.colaboratory.intrinsic+json": {
              "type": "string"
            }
          },
          "metadata": {},
          "execution_count": 17
        }
      ]
    },
    {
      "cell_type": "markdown",
      "source": [
        "#Tokenization\n",
        "<p align=\"justify\">Tokenization is the process of breaking up the original raw text into component pieces which are known as tokens. Tokenization is usually the initial step for further NLP operations like stemming, lemmatization, text mining, text classification, sentiment analysis, language translation, chatbot creation, etc.</p>"
      ],
      "metadata": {
        "id": "7KBmvXfIGqAy"
      }
    },
    {
      "cell_type": "markdown",
      "source": [
        "#Character Tokenization\n",
        "Character tokenization is the process of breaking text into a list of characters."
      ],
      "metadata": {
        "id": "7bjwZTQ1H2cn"
      }
    },
    {
      "cell_type": "code",
      "source": [
        "text=\"Indian culture is the oldest and famous among the other cultures of the world. \"\n",
        "lst=[x for x in text]\n",
        "print(lst)"
      ],
      "metadata": {
        "colab": {
          "base_uri": "https://localhost:8080/"
        },
        "id": "Egm9tJkZG-P1",
        "outputId": "4e704b3d-8423-4670-ab9d-0a7620a5bbe7"
      },
      "execution_count": null,
      "outputs": [
        {
          "output_type": "stream",
          "name": "stdout",
          "text": [
            "['I', 'n', 'd', 'i', 'a', 'n', ' ', 'c', 'u', 'l', 't', 'u', 'r', 'e', ' ', 'i', 's', ' ', 't', 'h', 'e', ' ', 'o', 'l', 'd', 'e', 's', 't', ' ', 'a', 'n', 'd', ' ', 'f', 'a', 'm', 'o', 'u', 's', ' ', 'a', 'm', 'o', 'n', 'g', ' ', 't', 'h', 'e', ' ', 'o', 't', 'h', 'e', 'r', ' ', 'c', 'u', 'l', 't', 'u', 'r', 'e', 's', ' ', 'o', 'f', ' ', 't', 'h', 'e', ' ', 'w', 'o', 'r', 'l', 'd', '.', ' ']\n"
          ]
        }
      ]
    },
    {
      "cell_type": "markdown",
      "source": [
        "#Word Tokenization \n",
        "Word tokenization is the process of breaking a string into a list of words also known as tokens. In NLTK we have a module word_tokenize() to perform word tokenization."
      ],
      "metadata": {
        "id": "T9y5lqnVIL3J"
      }
    },
    {
      "cell_type": "code",
      "source": [
        "from nltk. tokenize import word_tokenize \n",
        "print(word_tokenize(my_text))"
      ],
      "metadata": {
        "colab": {
          "base_uri": "https://localhost:8080/"
        },
        "id": "zSPA0i_mMRCv",
        "outputId": "2eeb14ee-7fa1-4018-f508-d696081a74e5"
      },
      "execution_count": null,
      "outputs": [
        {
          "output_type": "stream",
          "name": "stdout",
          "text": [
            "['Indian', 'culture', 'is', 'the', 'oldest', 'and', 'famous', 'among', 'the', 'other', 'cultures', 'of', 'the', 'world', '.', 'Indian', 'literature', 'refers', 'to', 'an', 'amalgamation', 'of', 'distinct', 'cultures', 'of', 'all', 'communities', ',', 'traditions', ',', 'customs', ',', 'and', 'religions', 'in', 'India', '.', 'The', 'diversity', 'of', 'Indian', 'culture', 'is', 'known', 'worldwide', '.', 'Various', 'Indian', 'cultures', 'profoundly', 'influence', 'Indian', 'Philosophy', ',', 'art', ',', 'music', ',', 'and', 'even', 'Literature', '.', 'The', 'Dharmic', 'religions', 'and', 'Indian', 'cultures', 'throughout', 'Indian', 'history', 'have', 'a', 'significant', 'impact', 'on', 'the', 'customs', 'and', 'traditions', '.']\n"
          ]
        }
      ]
    },
    {
      "cell_type": "markdown",
      "source": [
        "#Sentence Tokenization \n",
        "Sentence tokenization is the process of breaking a paragraph or a string containing sentences into a list of sentences. In NLTK, sentence tokenization can be done using sent_tokenize()."
      ],
      "metadata": {
        "id": "OWqYoADxIX0k"
      }
    },
    {
      "cell_type": "code",
      "source": [
        "from nltk.tokenize import sent_tokenize \n",
        "print (sent_tokenize(my_text))"
      ],
      "metadata": {
        "colab": {
          "base_uri": "https://localhost:8080/"
        },
        "id": "6WX-jA08Mlge",
        "outputId": "43460771-d5bf-44fa-dfc1-aa6a972bb8de"
      },
      "execution_count": null,
      "outputs": [
        {
          "output_type": "stream",
          "name": "stdout",
          "text": [
            "['Indian culture is the oldest and famous among the other cultures of the world.', 'Indian literature refers to an amalgamation of distinct cultures of all communities, traditions, customs, and religions in India.', 'The diversity of Indian culture is known worldwide.', 'Various Indian cultures profoundly influence Indian Philosophy, art, music, and even Literature.', 'The Dharmic religions and Indian cultures throughout Indian history have a significant impact on the customs and traditions.']\n"
          ]
        }
      ]
    },
    {
      "cell_type": "markdown",
      "source": [
        "#Whitespace Tokenization \n",
        "WhitespaceTokenizer() module of NLTK tokenizes a string on whitespace (space, tab, newline). It is an alternate option for split()."
      ],
      "metadata": {
        "id": "E2K4JCJsIn3T"
      }
    },
    {
      "cell_type": "code",
      "source": [
        "from nltk.tokenize import WhitespaceTokenizer\n",
        "Tokenizer=WhitespaceTokenizer()\n",
        "print(Tokenizer.tokenize(my_text))"
      ],
      "metadata": {
        "colab": {
          "base_uri": "https://localhost:8080/"
        },
        "id": "5qeY-g4uNX7v",
        "outputId": "1d94b5fe-ed2a-438d-ba7d-d80f32b9b008"
      },
      "execution_count": null,
      "outputs": [
        {
          "output_type": "stream",
          "name": "stdout",
          "text": [
            "['Indian', 'culture', 'is', 'the', 'oldest', 'and', 'famous', 'among', 'the', 'other', 'cultures', 'of', 'the', 'world.', 'Indian', 'literature', 'refers', 'to', 'an', 'amalgamation', 'of', 'distinct', 'cultures', 'of', 'all', 'communities,', 'traditions,', 'customs,', 'and', 'religions', 'in', 'India.', 'The', 'diversity', 'of', 'Indian', 'culture', 'is', 'known', 'worldwide.', 'Various', 'Indian', 'cultures', 'profoundly', 'influence', 'Indian', 'Philosophy,', 'art,', 'music,', 'and', 'even', 'Literature.', 'The', 'Dharmic', 'religions', 'and', 'Indian', 'cultures', 'throughout', 'Indian', 'history', 'have', 'a', 'significant', 'impact', 'on', 'the', 'customs', 'and', 'traditions.']\n"
          ]
        }
      ]
    },
    {
      "cell_type": "markdown",
      "source": [
        "#Word Punctuation Tokenization \n",
        "WordPunctTokenizer() module of NLTK tokenizes a string on punctuations.\n",
        "In the below example, we have tokenized the string on punctuations by passing it to WordPuntTokenizer() function."
      ],
      "metadata": {
        "id": "PpHP5_HSIyCl"
      }
    },
    {
      "cell_type": "code",
      "source": [
        "from nltk.tokenize import WordPunctTokenizer\n",
        "text=\"Indian culture is the oldest and famous among the other cultures of the world. \"\n",
        "Tokenizer=WordPunctTokenizer()\n",
        "print(Tokenizer.tokenize(text))"
      ],
      "metadata": {
        "colab": {
          "base_uri": "https://localhost:8080/"
        },
        "id": "kZSmiTadI67m",
        "outputId": "9d321347-102f-42b1-bec9-6c81d0519bd7"
      },
      "execution_count": null,
      "outputs": [
        {
          "output_type": "stream",
          "name": "stdout",
          "text": [
            "['Indian', 'culture', 'is', 'the', 'oldest', 'and', 'famous', 'among', 'the', 'other', 'cultures', 'of', 'the', 'world', '.']\n"
          ]
        }
      ]
    },
    {
      "cell_type": "markdown",
      "source": [
        "#Removing Punctuations\n",
        "We can remove punctuation from a sentence by using RegexpTokenizer() function of NLTK.\n",
        "In the example below, we have used RegexpTokenizer() to convert the text into a list of words that don’t contain punctuations and then joined them using .join() function."
      ],
      "metadata": {
        "id": "v2QRhOyJJLmy"
      }
    },
    {
      "cell_type": "code",
      "source": [
        "from nltk. tokenize import RegexpTokenizer \n",
        "# RegexpTokenizer to match only capitalized words\n",
        "cap_tokenizer = RegexpTokenizer(\"[A-Z]['\\w]+\") \n",
        "print(cap_tokenizer.tokenize(my_text)) "
      ],
      "metadata": {
        "colab": {
          "base_uri": "https://localhost:8080/"
        },
        "id": "hOkRWo051XmK",
        "outputId": "d4480c71-6904-4955-8996-9af182076339"
      },
      "execution_count": null,
      "outputs": [
        {
          "output_type": "stream",
          "name": "stdout",
          "text": [
            "['Indian', 'Indian', 'India', 'The', 'Indian', 'Various', 'Indian', 'Indian', 'Philosophy', 'Literature', 'The', 'Dharmic', 'Indian', 'Indian']\n"
          ]
        }
      ]
    },
    {
      "cell_type": "markdown",
      "source": [
        "#Tokenization Dataframe Columns\n",
        "Quite often you will need to tokenized data in a column of pandas dataframe. This can be achieved easily by using apply and lambda function of Python with the NLTK tokenization functions."
      ],
      "metadata": {
        "id": "w4M5zIn4KAjl"
      }
    },
    {
      "cell_type": "code",
      "source": [
        "from nltk.tokenize import  word_tokenize\n",
        "df = pd.DataFrame({'Phrases': ['The greatest glory in living lies not in never falling, but in rising every time we fall.', \n",
        "                              'The way to get started is to quit talking and begin doing.', \n",
        "                              'If life were predictable it would cease to be life, and be without flavor.',\n",
        "                              \"If you set your goals ridiculously high and it's a failure, you will fail above everyone else's success.\"]})\n",
        "df['tokenized'] = df.apply(lambda row: nltk.word_tokenize(row['Phrases']), axis=1)\n",
        "df.head()"
      ],
      "metadata": {
        "colab": {
          "base_uri": "https://localhost:8080/",
          "height": 175
        },
        "id": "RdaNJrJoJ77z",
        "outputId": "ab30ba35-5478-4c45-92b7-1eb2b61c7fb0"
      },
      "execution_count": null,
      "outputs": [
        {
          "output_type": "execute_result",
          "data": {
            "text/plain": [
              "                                             Phrases  \\\n",
              "0  The greatest glory in living lies not in never...   \n",
              "1  The way to get started is to quit talking and ...   \n",
              "2  If life were predictable it would cease to be ...   \n",
              "3  If you set your goals ridiculously high and it...   \n",
              "\n",
              "                                           tokenized  \n",
              "0  [The, greatest, glory, in, living, lies, not, ...  \n",
              "1  [The, way, to, get, started, is, to, quit, tal...  \n",
              "2  [If, life, were, predictable, it, would, cease...  \n",
              "3  [If, you, set, your, goals, ridiculously, high...  "
            ],
            "text/html": [
              "\n",
              "  <div id=\"df-9c5a0f43-3fa2-4558-9df8-0d6d99748574\">\n",
              "    <div class=\"colab-df-container\">\n",
              "      <div>\n",
              "<style scoped>\n",
              "    .dataframe tbody tr th:only-of-type {\n",
              "        vertical-align: middle;\n",
              "    }\n",
              "\n",
              "    .dataframe tbody tr th {\n",
              "        vertical-align: top;\n",
              "    }\n",
              "\n",
              "    .dataframe thead th {\n",
              "        text-align: right;\n",
              "    }\n",
              "</style>\n",
              "<table border=\"1\" class=\"dataframe\">\n",
              "  <thead>\n",
              "    <tr style=\"text-align: right;\">\n",
              "      <th></th>\n",
              "      <th>Phrases</th>\n",
              "      <th>tokenized</th>\n",
              "    </tr>\n",
              "  </thead>\n",
              "  <tbody>\n",
              "    <tr>\n",
              "      <th>0</th>\n",
              "      <td>The greatest glory in living lies not in never...</td>\n",
              "      <td>[The, greatest, glory, in, living, lies, not, ...</td>\n",
              "    </tr>\n",
              "    <tr>\n",
              "      <th>1</th>\n",
              "      <td>The way to get started is to quit talking and ...</td>\n",
              "      <td>[The, way, to, get, started, is, to, quit, tal...</td>\n",
              "    </tr>\n",
              "    <tr>\n",
              "      <th>2</th>\n",
              "      <td>If life were predictable it would cease to be ...</td>\n",
              "      <td>[If, life, were, predictable, it, would, cease...</td>\n",
              "    </tr>\n",
              "    <tr>\n",
              "      <th>3</th>\n",
              "      <td>If you set your goals ridiculously high and it...</td>\n",
              "      <td>[If, you, set, your, goals, ridiculously, high...</td>\n",
              "    </tr>\n",
              "  </tbody>\n",
              "</table>\n",
              "</div>\n",
              "      <button class=\"colab-df-convert\" onclick=\"convertToInteractive('df-9c5a0f43-3fa2-4558-9df8-0d6d99748574')\"\n",
              "              title=\"Convert this dataframe to an interactive table.\"\n",
              "              style=\"display:none;\">\n",
              "        \n",
              "  <svg xmlns=\"http://www.w3.org/2000/svg\" height=\"24px\"viewBox=\"0 0 24 24\"\n",
              "       width=\"24px\">\n",
              "    <path d=\"M0 0h24v24H0V0z\" fill=\"none\"/>\n",
              "    <path d=\"M18.56 5.44l.94 2.06.94-2.06 2.06-.94-2.06-.94-.94-2.06-.94 2.06-2.06.94zm-11 1L8.5 8.5l.94-2.06 2.06-.94-2.06-.94L8.5 2.5l-.94 2.06-2.06.94zm10 10l.94 2.06.94-2.06 2.06-.94-2.06-.94-.94-2.06-.94 2.06-2.06.94z\"/><path d=\"M17.41 7.96l-1.37-1.37c-.4-.4-.92-.59-1.43-.59-.52 0-1.04.2-1.43.59L10.3 9.45l-7.72 7.72c-.78.78-.78 2.05 0 2.83L4 21.41c.39.39.9.59 1.41.59.51 0 1.02-.2 1.41-.59l7.78-7.78 2.81-2.81c.8-.78.8-2.07 0-2.86zM5.41 20L4 18.59l7.72-7.72 1.47 1.35L5.41 20z\"/>\n",
              "  </svg>\n",
              "      </button>\n",
              "      \n",
              "  <style>\n",
              "    .colab-df-container {\n",
              "      display:flex;\n",
              "      flex-wrap:wrap;\n",
              "      gap: 12px;\n",
              "    }\n",
              "\n",
              "    .colab-df-convert {\n",
              "      background-color: #E8F0FE;\n",
              "      border: none;\n",
              "      border-radius: 50%;\n",
              "      cursor: pointer;\n",
              "      display: none;\n",
              "      fill: #1967D2;\n",
              "      height: 32px;\n",
              "      padding: 0 0 0 0;\n",
              "      width: 32px;\n",
              "    }\n",
              "\n",
              "    .colab-df-convert:hover {\n",
              "      background-color: #E2EBFA;\n",
              "      box-shadow: 0px 1px 2px rgba(60, 64, 67, 0.3), 0px 1px 3px 1px rgba(60, 64, 67, 0.15);\n",
              "      fill: #174EA6;\n",
              "    }\n",
              "\n",
              "    [theme=dark] .colab-df-convert {\n",
              "      background-color: #3B4455;\n",
              "      fill: #D2E3FC;\n",
              "    }\n",
              "\n",
              "    [theme=dark] .colab-df-convert:hover {\n",
              "      background-color: #434B5C;\n",
              "      box-shadow: 0px 1px 3px 1px rgba(0, 0, 0, 0.15);\n",
              "      filter: drop-shadow(0px 1px 2px rgba(0, 0, 0, 0.3));\n",
              "      fill: #FFFFFF;\n",
              "    }\n",
              "  </style>\n",
              "\n",
              "      <script>\n",
              "        const buttonEl =\n",
              "          document.querySelector('#df-9c5a0f43-3fa2-4558-9df8-0d6d99748574 button.colab-df-convert');\n",
              "        buttonEl.style.display =\n",
              "          google.colab.kernel.accessAllowed ? 'block' : 'none';\n",
              "\n",
              "        async function convertToInteractive(key) {\n",
              "          const element = document.querySelector('#df-9c5a0f43-3fa2-4558-9df8-0d6d99748574');\n",
              "          const dataTable =\n",
              "            await google.colab.kernel.invokeFunction('convertToInteractive',\n",
              "                                                     [key], {});\n",
              "          if (!dataTable) return;\n",
              "\n",
              "          const docLinkHtml = 'Like what you see? Visit the ' +\n",
              "            '<a target=\"_blank\" href=https://colab.research.google.com/notebooks/data_table.ipynb>data table notebook</a>'\n",
              "            + ' to learn more about interactive tables.';\n",
              "          element.innerHTML = '';\n",
              "          dataTable['output_type'] = 'display_data';\n",
              "          await google.colab.output.renderOutput(dataTable, element);\n",
              "          const docLink = document.createElement('div');\n",
              "          docLink.innerHTML = docLinkHtml;\n",
              "          element.appendChild(docLink);\n",
              "        }\n",
              "      </script>\n",
              "    </div>\n",
              "  </div>\n",
              "  "
            ]
          },
          "metadata": {},
          "execution_count": 24
        }
      ]
    },
    {
      "cell_type": "markdown",
      "source": [
        "#Spelling Correction\n",
        "Spelling correction is another important step in the text preprocessing step. Typos are common in text data and we might want to correct those spelling mistakes before we do our analysis. This ensures we get better results from our models.\n",
        "\n",
        "Here, we will be using the python package pyspellchecker for our spelling correction. We have defined our own custom function spell_check() that corrects the text passed to it."
      ],
      "metadata": {
        "id": "qljKzuW6Lcfx"
      }
    },
    {
      "cell_type": "code",
      "source": [
        "from spellchecker import SpellChecker\n",
        "def spell_check(text):\n",
        "    result = []\n",
        "    spell = SpellChecker()\n",
        "    for word in text:\n",
        "        correct_word = spell.correction(word)\n",
        "        result.append(correct_word)\n",
        "    return result\n",
        "#Test\n",
        "text = \"confuson matrx\".split() \n",
        "spell_check(text)"
      ],
      "metadata": {
        "colab": {
          "base_uri": "https://localhost:8080/"
        },
        "id": "0RrUC5SOCEg8",
        "outputId": "d2eca234-d3e1-4eb6-af0f-232fbda97a3e"
      },
      "execution_count": null,
      "outputs": [
        {
          "output_type": "execute_result",
          "data": {
            "text/plain": [
              "['confusion', 'matrix']"
            ]
          },
          "metadata": {},
          "execution_count": 25
        }
      ]
    },
    {
      "cell_type": "markdown",
      "source": [
        "#Removing Stopwords\n",
        "Stopwords are trivial words like “I”, “the”, “you”, etc. that appear so frequently in the text that they may distort many NLP operations without adding much valuable information. So almost always you will have to remove stopwords from the corpus as part of your preprocessing.\n",
        "\n",
        "NLTK library maintains a list of around 179 stopwords (shown below) that can be used to filtering stopwords from the text."
      ],
      "metadata": {
        "id": "PmJZK-XpNYx2"
      }
    },
    {
      "cell_type": "code",
      "source": [
        "en_stopwords = stopwords.words('english')\n",
        "def remove_stopwords(text):\n",
        "    result = []\n",
        "    for token in text:\n",
        "        if token not in en_stopwords:\n",
        "            result.append(token)\n",
        "    return result\n",
        "#Test\n",
        "text=\"Indian culture is the oldest and famous among the other cultures of the world.\"\n",
        "remove_stopwords(text)"
      ],
      "metadata": {
        "colab": {
          "base_uri": "https://localhost:8080/"
        },
        "id": "AxQEFg_U1Xwy",
        "outputId": "262ddef4-3f18-4da6-d754-46c156cd6a77"
      },
      "execution_count": null,
      "outputs": [
        {
          "output_type": "execute_result",
          "data": {
            "text/plain": [
              "['I',\n",
              " 'n',\n",
              " 'n',\n",
              " ' ',\n",
              " 'c',\n",
              " 'u',\n",
              " 'l',\n",
              " 'u',\n",
              " 'r',\n",
              " 'e',\n",
              " ' ',\n",
              " ' ',\n",
              " 'h',\n",
              " 'e',\n",
              " ' ',\n",
              " 'l',\n",
              " 'e',\n",
              " ' ',\n",
              " 'n',\n",
              " ' ',\n",
              " 'f',\n",
              " 'u',\n",
              " ' ',\n",
              " 'n',\n",
              " 'g',\n",
              " ' ',\n",
              " 'h',\n",
              " 'e',\n",
              " ' ',\n",
              " 'h',\n",
              " 'e',\n",
              " 'r',\n",
              " ' ',\n",
              " 'c',\n",
              " 'u',\n",
              " 'l',\n",
              " 'u',\n",
              " 'r',\n",
              " 'e',\n",
              " ' ',\n",
              " 'f',\n",
              " ' ',\n",
              " 'h',\n",
              " 'e',\n",
              " ' ',\n",
              " 'w',\n",
              " 'r',\n",
              " 'l',\n",
              " '.']"
            ]
          },
          "metadata": {},
          "execution_count": 27
        }
      ]
    },
    {
      "cell_type": "code",
      "source": [
        "from nltk.util import ngrams \n",
        "my_words = word_tokenize(my_text) # This is the list of all words \n",
        "twograms = list(ngrams (my_words, 2))\n",
        "print(twograms)"
      ],
      "metadata": {
        "colab": {
          "base_uri": "https://localhost:8080/"
        },
        "id": "9BAgNHwOM--v",
        "outputId": "1e64521d-d7c5-416f-c5d7-c84b290c146b"
      },
      "execution_count": null,
      "outputs": [
        {
          "output_type": "stream",
          "name": "stdout",
          "text": [
            "[('Indian', 'culture'), ('culture', 'is'), ('is', 'the'), ('the', 'oldest'), ('oldest', 'and'), ('and', 'famous'), ('famous', 'among'), ('among', 'the'), ('the', 'other'), ('other', 'cultures'), ('cultures', 'of'), ('of', 'the'), ('the', 'world'), ('world', '.'), ('.', 'Indian'), ('Indian', 'literature'), ('literature', 'refers'), ('refers', 'to'), ('to', 'an'), ('an', 'amalgamation'), ('amalgamation', 'of'), ('of', 'distinct'), ('distinct', 'cultures'), ('cultures', 'of'), ('of', 'all'), ('all', 'communities'), ('communities', ','), (',', 'traditions'), ('traditions', ','), (',', 'customs'), ('customs', ','), (',', 'and'), ('and', 'religions'), ('religions', 'in'), ('in', 'India'), ('India', '.'), ('.', 'The'), ('The', 'diversity'), ('diversity', 'of'), ('of', 'Indian'), ('Indian', 'culture'), ('culture', 'is'), ('is', 'known'), ('known', 'worldwide'), ('worldwide', '.'), ('.', 'Various'), ('Various', 'Indian'), ('Indian', 'cultures'), ('cultures', 'profoundly'), ('profoundly', 'influence'), ('influence', 'Indian'), ('Indian', 'Philosophy'), ('Philosophy', ','), (',', 'art'), ('art', ','), (',', 'music'), ('music', ','), (',', 'and'), ('and', 'even'), ('even', 'Literature'), ('Literature', '.'), ('.', 'The'), ('The', 'Dharmic'), ('Dharmic', 'religions'), ('religions', 'and'), ('and', 'Indian'), ('Indian', 'cultures'), ('cultures', 'throughout'), ('throughout', 'Indian'), ('Indian', 'history'), ('history', 'have'), ('have', 'a'), ('a', 'significant'), ('significant', 'impact'), ('impact', 'on'), ('on', 'the'), ('the', 'customs'), ('customs', 'and'), ('and', 'traditions'), ('traditions', '.')]\n"
          ]
        }
      ]
    },
    {
      "cell_type": "code",
      "source": [
        "from nltk. tokenize import MWETokenizer # multi-word expression \n",
        "mwe_tokenizer = MWETokenizer([('You','all'), ('of', 'all', 'time')]) \n",
        "mwe_tokens = mwe_tokenizer. tokenize(word_tokenize(my_text)) \n",
        "mwe_tokens "
      ],
      "metadata": {
        "colab": {
          "base_uri": "https://localhost:8080/"
        },
        "id": "gdNbbeNPZM98",
        "outputId": "a3032cf7-115f-4ecf-a28b-a445381ad3de"
      },
      "execution_count": null,
      "outputs": [
        {
          "output_type": "execute_result",
          "data": {
            "text/plain": [
              "['Indian',\n",
              " 'culture',\n",
              " 'is',\n",
              " 'the',\n",
              " 'oldest',\n",
              " 'and',\n",
              " 'famous',\n",
              " 'among',\n",
              " 'the',\n",
              " 'other',\n",
              " 'cultures',\n",
              " 'of',\n",
              " 'the',\n",
              " 'world',\n",
              " '.',\n",
              " 'Indian',\n",
              " 'literature',\n",
              " 'refers',\n",
              " 'to',\n",
              " 'an',\n",
              " 'amalgamation',\n",
              " 'of',\n",
              " 'distinct',\n",
              " 'cultures',\n",
              " 'of',\n",
              " 'all',\n",
              " 'communities',\n",
              " ',',\n",
              " 'traditions',\n",
              " ',',\n",
              " 'customs',\n",
              " ',',\n",
              " 'and',\n",
              " 'religions',\n",
              " 'in',\n",
              " 'India',\n",
              " '.',\n",
              " 'The',\n",
              " 'diversity',\n",
              " 'of',\n",
              " 'Indian',\n",
              " 'culture',\n",
              " 'is',\n",
              " 'known',\n",
              " 'worldwide',\n",
              " '.',\n",
              " 'Various',\n",
              " 'Indian',\n",
              " 'cultures',\n",
              " 'profoundly',\n",
              " 'influence',\n",
              " 'Indian',\n",
              " 'Philosophy',\n",
              " ',',\n",
              " 'art',\n",
              " ',',\n",
              " 'music',\n",
              " ',',\n",
              " 'and',\n",
              " 'even',\n",
              " 'Literature',\n",
              " '.',\n",
              " 'The',\n",
              " 'Dharmic',\n",
              " 'religions',\n",
              " 'and',\n",
              " 'Indian',\n",
              " 'cultures',\n",
              " 'throughout',\n",
              " 'Indian',\n",
              " 'history',\n",
              " 'have',\n",
              " 'a',\n",
              " 'significant',\n",
              " 'impact',\n",
              " 'on',\n",
              " 'the',\n",
              " 'customs',\n",
              " 'and',\n",
              " 'traditions',\n",
              " '.']"
            ]
          },
          "metadata": {},
          "execution_count": 29
        }
      ]
    }
  ]
}
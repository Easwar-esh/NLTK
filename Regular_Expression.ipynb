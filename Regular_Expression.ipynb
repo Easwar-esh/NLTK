{
  "nbformat": 4,
  "nbformat_minor": 0,
  "metadata": {
    "colab": {
      "provenance": []
    },
    "kernelspec": {
      "name": "python3",
      "display_name": "Python 3"
    },
    "language_info": {
      "name": "python"
    }
  },
  "cells": [
    {
      "cell_type": "markdown",
      "source": [
        "1. Write a python program to perfrom the following operations on the given string using the various regular expression funcions.\n",
        "\n",
        "flight_details = \"Good Evening, Welcome to British Airways. Your flight number is ba8004. Flight departure time is 16:45\"\n",
        "\n",
        "\n",
        "\n",
        "1.   Find whether the flight service name, British Airways is present in the given string and if so, display it.\n",
        "2.   Find whether the flight details end with departure time, 16:45 and if so, display it.\n",
        "3.   Find whether the flight details starts with \"Good\" and if so, display it.\n",
        "4.   Find a word which starts with 'F' and having 6 characters in it, if so display it.\n",
        "5.   Search for a word which starts with \"ba\" followed by exactly 4 digits. If found, replace the two alphabets with the corresponding uppercase alphabets.\n",
        "\n",
        "For questions 1 to 4, if the searched pattern is not present, display \"No Output\"\n",
        "\n",
        "Sample Input\n",
        "\n",
        "flight_details = \"Good Evening, Welcome to British Airways. Your flight number is ba8004. Flight departure time is 16:45\"\n",
        "\n",
        "Expected Output\n",
        "\n",
        "British Airways\n",
        "\n",
        "16:45\n",
        "\n",
        "Good\n",
        "\n",
        "Flight\n",
        "\n",
        "Good Evening, Welcome to British Airways. Your flight number is ba8004. Flight departure time is 16:45\n",
        "\n"
      ],
      "metadata": {
        "id": "BZTyd5S7wWnP"
      }
    },
    {
      "cell_type": "code",
      "execution_count": null,
      "metadata": {
        "colab": {
          "base_uri": "https://localhost:8080/"
        },
        "id": "CIjoiAdewISq",
        "outputId": "9830bb26-a78d-466f-cbdd-4f1323e924c9"
      },
      "outputs": [
        {
          "output_type": "stream",
          "name": "stdout",
          "text": [
            "['British Airways']\n",
            "['16:45']\n",
            "['Good']\n",
            "['Flight']\n",
            "Good Evening, Welcome to British Airways. your flight number is BA8004. Flight departure time is 16:45\n"
          ]
        }
      ],
      "source": [
        "import re\n",
        "a = \"Good Evening, Welcome to British Airways. your flight number is ba8004. Flight departure time is 16:45\"\n",
        "b = re.findall(\"British Airways\",a)\n",
        "c = re.findall(\"16:45$\",a)\n",
        "d = re.findall(\"^Good\",a)\n",
        "e = re.findall(\"F.{5}\",a)\n",
        "if(not b):\n",
        "  print(\"No output\")\n",
        "else:\n",
        "  print(b)\n",
        "if(not c):\n",
        "  print(\"No output\")\n",
        "else:\n",
        "  print(c)\n",
        "if(not d):\n",
        "  print(\"No output\")\n",
        "else:\n",
        "  print(d)\n",
        "if(not e):\n",
        "  print(\"No output\")\n",
        "else:\n",
        "  print(e)\n",
        "print(re.sub('ba', 'BA', a))"
      ]
    },
    {
      "cell_type": "markdown",
      "source": [
        "2. Write a python code to do the following operations.\n",
        "\n",
        "i) Find the sring \"S_DSPAM-RESULT:\" in the mbox-short.txt fine provided to you and replace it with \"X-DSPAM-Outcome:\". You should display the string after the replace operatons as well as the number of replacements done.\n",
        "\n",
        "ii) Find the average of all X-DSPAM-Confidence: in the file and print the reult in fload. "
      ],
      "metadata": {
        "id": "wJQVh9dHy_eN"
      }
    },
    {
      "cell_type": "code",
      "source": [
        "import re\n",
        "f = open('/content/file.txt')\n",
        "c = 0\n",
        "sum = 0\n",
        "for i in f:\n",
        "  i = i.rstrip()\n",
        "  if(re.search('X-DSPAM-Result',i)):\n",
        "    print(i)\n",
        "    i = i.replace(\"Result\",'Outcome')\n",
        "    e = open('new.txt','a')\n",
        "    e.write(i+'\\n')\n",
        "    e.close()\n",
        "  if(re.search('X-DSPAM-Confidence:',i)):\n",
        "    c += 1\n",
        "    data = i[20:]\n",
        "    data = float(data)\n",
        "    sum = sum + data\n",
        "print(data)\n",
        "print(c)\n",
        "print(data/c)\n",
        "f.close()"
      ],
      "metadata": {
        "colab": {
          "base_uri": "https://localhost:8080/"
        },
        "id": "dOZBKQrTy-kl",
        "outputId": "76b24ff5-e991-4d8c-d195-e26e594b631a"
      },
      "execution_count": null,
      "outputs": [
        {
          "output_type": "stream",
          "name": "stdout",
          "text": [
            "X-DSPAM-Result: Innocent\n",
            "X-DSPAM-Result: Innocent\n",
            "X-DSPAM-Result: Innocent\n",
            "X-DSPAM-Result: Innocent\n",
            "X-DSPAM-Result: Innocent\n",
            "X-DSPAM-Result: Innocent\n",
            "X-DSPAM-Result: Innocent\n",
            "X-DSPAM-Result: Innocent\n",
            "X-DSPAM-Result: Innocent\n",
            "X-DSPAM-Result: Innocent\n",
            "X-DSPAM-Result: Innocent\n",
            "X-DSPAM-Result: Innocent\n",
            "X-DSPAM-Result: Innocent\n",
            "X-DSPAM-Result: Innocent\n",
            "X-DSPAM-Result: Innocent\n",
            "X-DSPAM-Result: Innocent\n",
            "X-DSPAM-Result: Innocent\n",
            "X-DSPAM-Result: Innocent\n",
            "X-DSPAM-Result: Innocent\n",
            "X-DSPAM-Result: Innocent\n",
            "X-DSPAM-Result: Innocent\n",
            "X-DSPAM-Result: Innocent\n",
            "X-DSPAM-Result: Innocent\n",
            "X-DSPAM-Result: Innocent\n",
            "X-DSPAM-Result: Innocent\n",
            "X-DSPAM-Result: Innocent\n",
            "X-DSPAM-Result: Innocent\n",
            "0.9907\n",
            "27\n",
            "0.036692592592592596\n"
          ]
        }
      ]
    },
    {
      "cell_type": "markdown",
      "source": [
        "3. Write a python program to validate the password and display whether the password is valid or not. The requirements for a valid password are\n",
        "\n",
        "i) It should have both upper case and lower case characters.\n",
        "\n",
        "ii) It should have one special symbol[$#@!&]\n",
        "\n",
        "iii) It should have at least one number.\n",
        "\n",
        "iv) Minimum length for password should be 6 and maximum lenght should be 10"
      ],
      "metadata": {
        "id": "NLovcrzHz34C"
      }
    },
    {
      "cell_type": "code",
      "source": [
        "import re\n",
        "p= input(\"Enter your password:\")\n",
        "x = True\n",
        "while x:  \n",
        "    if (len(p)>=6 and len(p)<=10):\n",
        "      if not re.search(\"[a-z]\",p):\n",
        "          break\n",
        "      elif not re.search(\"[0-9]\",p):\n",
        "          break\n",
        "      elif not re.search(\"[A-Z]\",p):\n",
        "          break\n",
        "      elif not re.search(\"[$#@!&]\",p):\n",
        "          break\n",
        "      else:\n",
        "          print(\"Valid Password\")\n",
        "          x=False\n",
        "          break\n",
        "    else:\n",
        "      print(\"Length is lower or larger than the limit specified\")\n",
        "      break\n",
        "if x:\n",
        "    print(\"Not a Valid Password\")"
      ],
      "metadata": {
        "colab": {
          "base_uri": "https://localhost:8080/"
        },
        "id": "E6V4Cdt10SP3",
        "outputId": "2447f9cd-fe50-44a7-e820-794c856ad289"
      },
      "execution_count": null,
      "outputs": [
        {
          "output_type": "stream",
          "name": "stdout",
          "text": [
            "Enter your password:Tracey369$\n",
            "Valid Password\n"
          ]
        }
      ]
    },
    {
      "cell_type": "code",
      "source": [
        "import re\n",
        "file1=open('file.txt')\n",
        "for line in file1:\n",
        "  line=line.rstrip()\n",
        "\n",
        "file1.close()\n",
        "\n",
        "print()\n",
        "\n",
        "reading_file = open(\"file.txt\", \"r\")\n",
        "\n",
        "new_file_content = \"\"\n",
        "for line in reading_file:\n",
        "    stripped_line = line.strip()\n",
        "    new_line = stripped_line.replace(\"X-DSPAM-Result:\",\"X-DSPAM-Outcome:\")\n",
        "    new_file_content += new_line +\"\\n\"\n",
        "reading_file.close()\n",
        "\n",
        "writing_file = open(\"mbox-short.txt\", \"w\")\n",
        "writing_file.write(new_file_content)\n",
        "writing_file.close()\n",
        "\n",
        "file1=open('mbox-short.txt')\n",
        "for line in file1:\n",
        "  line=line.rstrip()\n",
        "\n",
        "file1.close()\n",
        "data=[]\n",
        "sum=0\n",
        "count=0\n",
        "hand=open('file.txt')\n",
        "for line in hand:\n",
        "  line=line.rstrip()\n",
        "  if(re.search('X-DSPAM-Confidence:',line)):\n",
        "    #print(line[20:])\n",
        "    rowdata = line[20:]\n",
        "    #print(rowdata)\n",
        "    data.append(rowdata)\n",
        "#print(data)\n",
        "for i in data:\n",
        "  i=float(i)\n",
        "  sum+=i\n",
        "  count+=1\n",
        "  #print(sum)\n",
        "  #print(count)\n",
        "print(\"sum:\",sum)\n",
        "print(\"count:\",count)\n",
        "print(\"X-DSPAM CONFIDENCE:\",sum/count)"
      ],
      "metadata": {
        "colab": {
          "base_uri": "https://localhost:8080/"
        },
        "id": "nu0J9keIC3G9",
        "outputId": "a6f7c662-6094-4e8e-f23e-2596cda6f5a5"
      },
      "execution_count": null,
      "outputs": [
        {
          "output_type": "stream",
          "name": "stdout",
          "text": [
            "\n",
            "sum: 20.269400000000005\n",
            "count: 27\n",
            "X-DSPAM CONFIDENCE: 0.7507185185185187\n"
          ]
        }
      ]
    }
  ]
}
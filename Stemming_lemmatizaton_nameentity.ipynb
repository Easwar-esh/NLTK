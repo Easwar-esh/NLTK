{
  "nbformat": 4,
  "nbformat_minor": 0,
  "metadata": {
    "colab": {
      "provenance": []
    },
    "kernelspec": {
      "name": "python3",
      "display_name": "Python 3"
    },
    "language_info": {
      "name": "python"
    }
  },
  "cells": [
    {
      "cell_type": "code",
      "execution_count": null,
      "metadata": {
        "id": "Y1-J_RbTGI3v"
      },
      "outputs": [],
      "source": [
        "import spacy\n",
        "sp = spacy.load('en_core_web_sm')"
      ]
    },
    {
      "cell_type": "code",
      "source": [
        "sentence = sp(u'Manchester United is looking to sign a forward for $90 million')\n",
        "for word in sentence:\n",
        "    print(word.text)"
      ],
      "metadata": {
        "colab": {
          "base_uri": "https://localhost:8080/"
        },
        "id": "mqLhPXTCGdD9",
        "outputId": "027e78a6-7f93-4ee1-d4f3-3a68b29e3338"
      },
      "execution_count": null,
      "outputs": [
        {
          "output_type": "stream",
          "name": "stdout",
          "text": [
            "Manchester\n",
            "United\n",
            "is\n",
            "looking\n",
            "to\n",
            "sign\n",
            "a\n",
            "forward\n",
            "for\n",
            "$\n",
            "90\n",
            "million\n"
          ]
        }
      ]
    },
    {
      "cell_type": "code",
      "source": [
        "for word in sentence:\n",
        "    print(word.text,  word.pos_)"
      ],
      "metadata": {
        "colab": {
          "base_uri": "https://localhost:8080/"
        },
        "id": "Qa46_y1KGdJE",
        "outputId": "adaabcc2-c69e-4e5b-f15d-d86204293c65"
      },
      "execution_count": null,
      "outputs": [
        {
          "output_type": "stream",
          "name": "stdout",
          "text": [
            "Manchester PROPN\n",
            "United PROPN\n",
            "is AUX\n",
            "looking VERB\n",
            "to PART\n",
            "sign VERB\n",
            "a DET\n",
            "forward NOUN\n",
            "for ADP\n",
            "$ SYM\n",
            "90 NUM\n",
            "million NUM\n"
          ]
        }
      ]
    },
    {
      "cell_type": "code",
      "source": [
        "sentence2 = sp(u\"Manchester United isn't looking to sign any forward.\")"
      ],
      "metadata": {
        "id": "Y0uHcE__GdSE"
      },
      "execution_count": null,
      "outputs": []
    },
    {
      "cell_type": "code",
      "source": [
        "for word in sentence2:\n",
        "    print(word.text,  word.pos_, word.dep_)"
      ],
      "metadata": {
        "colab": {
          "base_uri": "https://localhost:8080/"
        },
        "id": "EIsbpUIfGdZ0",
        "outputId": "c758bb18-75d0-4725-ba07-3e863f73f01b"
      },
      "execution_count": null,
      "outputs": [
        {
          "output_type": "stream",
          "name": "stdout",
          "text": [
            "Manchester PROPN compound\n",
            "United PROPN nsubj\n",
            "is AUX aux\n",
            "n't PART neg\n",
            "looking VERB ROOT\n",
            "to PART aux\n",
            "sign VERB xcomp\n",
            "any DET det\n",
            "forward ADV advmod\n",
            ". PUNCT punct\n"
          ]
        }
      ]
    },
    {
      "cell_type": "code",
      "source": [
        "document = sp(u'Hello from Stackabuse. The site with the best Python Tutorials. What are you looking for?')"
      ],
      "metadata": {
        "id": "CKmQacS3GddN"
      },
      "execution_count": null,
      "outputs": []
    },
    {
      "cell_type": "code",
      "source": [
        "for sentence in document.sents:\n",
        "    print(sentence)"
      ],
      "metadata": {
        "colab": {
          "base_uri": "https://localhost:8080/"
        },
        "id": "HXDeZTWPHEmV",
        "outputId": "a52096da-b35a-435a-97f5-88451d3ff8b9"
      },
      "execution_count": null,
      "outputs": [
        {
          "output_type": "stream",
          "name": "stdout",
          "text": [
            "Hello from Stackabuse.\n",
            "The site with the best Python Tutorials.\n",
            "What are you looking for?\n"
          ]
        }
      ]
    },
    {
      "cell_type": "code",
      "source": [
        "document[6]"
      ],
      "metadata": {
        "colab": {
          "base_uri": "https://localhost:8080/"
        },
        "id": "JoHAh7FFHEpd",
        "outputId": "80cfa14f-3e58-42c8-8690-10af3ee3778e"
      },
      "execution_count": null,
      "outputs": [
        {
          "output_type": "execute_result",
          "data": {
            "text/plain": [
              "with"
            ]
          },
          "metadata": {},
          "execution_count": 12
        }
      ]
    },
    {
      "cell_type": "code",
      "source": [
        "print(document[6].is_sent_start)\n",
        "print(document[4].is_sent_start)"
      ],
      "metadata": {
        "colab": {
          "base_uri": "https://localhost:8080/"
        },
        "id": "wwgkNeMMHEsV",
        "outputId": "6b8908d8-94e0-4632-b47b-80675bcd6b54"
      },
      "execution_count": null,
      "outputs": [
        {
          "output_type": "stream",
          "name": "stdout",
          "text": [
            "False\n",
            "True\n"
          ]
        }
      ]
    },
    {
      "cell_type": "markdown",
      "source": [
        "Detecting Entities"
      ],
      "metadata": {
        "id": "Q9lGQNoVHlMF"
      }
    },
    {
      "cell_type": "code",
      "source": [
        "sentence5 = sp(u'Manchester United is looking to sign Harry Kane for $90 million') "
      ],
      "metadata": {
        "id": "vSPTNFeGHkR-"
      },
      "execution_count": null,
      "outputs": []
    },
    {
      "cell_type": "code",
      "source": [
        "for word in sentence5:\n",
        "    print(word.text)"
      ],
      "metadata": {
        "colab": {
          "base_uri": "https://localhost:8080/"
        },
        "id": "88WETcquHEu0",
        "outputId": "ed080333-95d2-4607-ae0f-24dff521499c"
      },
      "execution_count": null,
      "outputs": [
        {
          "output_type": "stream",
          "name": "stdout",
          "text": [
            "Manchester\n",
            "United\n",
            "is\n",
            "looking\n",
            "to\n",
            "sign\n",
            "Harry\n",
            "Kane\n",
            "for\n",
            "$\n",
            "90\n",
            "million\n"
          ]
        }
      ]
    },
    {
      "cell_type": "code",
      "source": [
        "for entity in sentence5.ents:\n",
        "    print(entity.text + ' - ' + entity.label_ + ' - ' + str(spacy.explain(entity.label_)))"
      ],
      "metadata": {
        "colab": {
          "base_uri": "https://localhost:8080/"
        },
        "id": "vdsdrjgeHExH",
        "outputId": "5843792a-a224-422c-9941-cc2e9f871ed4"
      },
      "execution_count": null,
      "outputs": [
        {
          "output_type": "stream",
          "name": "stdout",
          "text": [
            "Manchester United - ORG - Companies, agencies, institutions, etc.\n",
            "Harry Kane - PERSON - People, including fictional\n",
            "$90 million - MONEY - Monetary values, including unit\n"
          ]
        }
      ]
    },
    {
      "cell_type": "code",
      "source": [
        "sentence5 = sp(u'Latest Rumours: Manchester United is looking to sign Harry Kane for $90 million') "
      ],
      "metadata": {
        "id": "TJVehu3-H4KO"
      },
      "execution_count": null,
      "outputs": []
    },
    {
      "cell_type": "code",
      "source": [
        "for noun in sentence5.noun_chunks:\n",
        "    print(noun.text)"
      ],
      "metadata": {
        "colab": {
          "base_uri": "https://localhost:8080/"
        },
        "id": "RRp2l7GAH4OO",
        "outputId": "29d24ba5-1415-47bb-ba7f-9526eabe215b"
      },
      "execution_count": null,
      "outputs": [
        {
          "output_type": "stream",
          "name": "stdout",
          "text": [
            "Latest Rumours\n",
            "Manchester United\n",
            "Harry Kane\n"
          ]
        }
      ]
    },
    {
      "cell_type": "markdown",
      "source": [
        "Stemming"
      ],
      "metadata": {
        "id": "jSFd7vDRIHX1"
      }
    },
    {
      "cell_type": "markdown",
      "source": [
        "Porter Stemmer"
      ],
      "metadata": {
        "id": "hIP2Wps0ILSl"
      }
    },
    {
      "cell_type": "code",
      "source": [
        "import nltk\n",
        "from nltk.stem.porter import *\n",
        "stemmer = PorterStemmer()\n",
        "tokens = ['compute', 'computer', 'computed', 'computing']\n",
        "for token in tokens:\n",
        "    print(token + ' --> ' + stemmer.stem(token))"
      ],
      "metadata": {
        "colab": {
          "base_uri": "https://localhost:8080/"
        },
        "id": "ymqzNJ4AH4Rd",
        "outputId": "b62fb395-9977-4620-a6c7-91c98074fbee"
      },
      "execution_count": null,
      "outputs": [
        {
          "output_type": "stream",
          "name": "stdout",
          "text": [
            "compute --> comput\n",
            "computer --> comput\n",
            "computed --> comput\n",
            "computing --> comput\n"
          ]
        }
      ]
    },
    {
      "cell_type": "markdown",
      "source": [
        "Snowball Stemmer"
      ],
      "metadata": {
        "id": "1bFeC-_yIa19"
      }
    },
    {
      "cell_type": "code",
      "source": [
        "from nltk.stem.snowball import SnowballStemmer\n",
        "stemmer = SnowballStemmer(language='english')\n",
        "tokens = ['compute', 'computer', 'computed', 'computing']\n",
        "for token in tokens:\n",
        "    print(token + ' --> ' + stemmer.stem(token))"
      ],
      "metadata": {
        "colab": {
          "base_uri": "https://localhost:8080/"
        },
        "id": "I4a673DvH4UV",
        "outputId": "1e9e6971-46e8-471c-92d3-e690d5425554"
      },
      "execution_count": null,
      "outputs": [
        {
          "output_type": "stream",
          "name": "stdout",
          "text": [
            "compute --> comput\n",
            "computer --> comput\n",
            "computed --> comput\n",
            "computing --> comput\n"
          ]
        }
      ]
    },
    {
      "cell_type": "markdown",
      "source": [
        "Lemmatization"
      ],
      "metadata": {
        "id": "WPlq35UQIjYV"
      }
    },
    {
      "cell_type": "code",
      "source": [
        "sentence6 = sp(u'compute computer computed computing')\n",
        "for word in sentence6:\n",
        "    print(word.text,  word.lemma_)"
      ],
      "metadata": {
        "colab": {
          "base_uri": "https://localhost:8080/"
        },
        "id": "AtS3jaBmIYpe",
        "outputId": "57ab880f-c9fc-4aea-d3b5-3b29c9b3bbd9"
      },
      "execution_count": null,
      "outputs": [
        {
          "output_type": "stream",
          "name": "stdout",
          "text": [
            "compute compute\n",
            "computer computer\n",
            "computed compute\n",
            "computing computing\n"
          ]
        }
      ]
    },
    {
      "cell_type": "code",
      "source": [
        "sentence7 = sp(u'A letter has been written, asking him to be released')\n",
        "for word in sentence7:\n",
        "    print(word.text + '  ===>', word.lemma_)"
      ],
      "metadata": {
        "colab": {
          "base_uri": "https://localhost:8080/"
        },
        "id": "AC3C2bGkIkbN",
        "outputId": "1e877fa4-03e1-441d-c7fc-fe6865510647"
      },
      "execution_count": null,
      "outputs": [
        {
          "output_type": "stream",
          "name": "stdout",
          "text": [
            "A  ===> a\n",
            "letter  ===> letter\n",
            "has  ===> have\n",
            "been  ===> be\n",
            "written  ===> write\n",
            ",  ===> ,\n",
            "asking  ===> ask\n",
            "him  ===> he\n",
            "to  ===> to\n",
            "be  ===> be\n",
            "released  ===> release\n"
          ]
        }
      ]
    },
    {
      "cell_type": "code",
      "source": [],
      "metadata": {
        "id": "CHA0l80HIkd9"
      },
      "execution_count": null,
      "outputs": []
    },
    {
      "cell_type": "code",
      "source": [],
      "metadata": {
        "id": "evAqGhQ_Ikgd"
      },
      "execution_count": null,
      "outputs": []
    },
    {
      "cell_type": "code",
      "source": [],
      "metadata": {
        "id": "nx9iWZjPIkix"
      },
      "execution_count": null,
      "outputs": []
    },
    {
      "cell_type": "code",
      "source": [],
      "metadata": {
        "id": "fAZVK_YsIYtn"
      },
      "execution_count": null,
      "outputs": []
    }
  ]
}